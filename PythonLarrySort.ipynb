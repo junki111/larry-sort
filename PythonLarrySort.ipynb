{
 "cells": [
  {
   "cell_type": "markdown",
   "id": "2e7a46c4",
   "metadata": {},
   "source": [
    "First start by converting the array into a √m * √m matrix (The root should be rounded up). Next pad the 2D array with a number (1 value higher than the biggest element), as seen below. "
   ]
  },
  {
   "cell_type": "code",
   "execution_count": 11,
   "id": "d2dfff3a",
   "metadata": {},
   "outputs": [
    {
     "name": "stdout",
     "output_type": "stream",
     "text": [
      "[[13.  1. 90.]\n",
      " [67. 42. 91.]\n",
      " [91. 91. 91.]]\n"
     ]
    }
   ],
   "source": [
    "import math\n",
    "import numpy as np\n",
    "arr1 = [13,1,90,67, 42]\n",
    "\n",
    "def larrySort(list):\n",
    "    result = []\n",
    "    sizeOfArray = len(list)\n",
    "    roundedSquareRoot = math.ceil(sizeOfArray ** 0.5)\n",
    "    start = 0\n",
    "    end = roundedSquareRoot\n",
    "    maxNum = max(list)\n",
    "    paddedResult = []\n",
    "    for i in range(roundedSquareRoot):\n",
    "        result.append(arr1[start:end])\n",
    "        start += roundedSquareRoot\n",
    "        end += roundedSquareRoot\n",
    "        if(len(result[i]) != roundedSquareRoot):\n",
    "            x = np.pad(result[i], (0,roundedSquareRoot-len(result[i])), 'constant',constant_values = maxNum+1)\n",
    "        else:\n",
    "            x = result[i]\n",
    "            \n",
    "        paddedResult.append(x)\n",
    "    \n",
    "    return np.array(paddedResult)\n",
    "\n",
    "print(larrySort(arr1))\n",
    "    "
   ]
  },
  {
   "cell_type": "markdown",
   "id": "2ad66cde",
   "metadata": {},
   "source": [
    "Sort the values by row. If the row is even, then sort in ascending order but if the row is odd, then sort in descending order, as seen below. "
   ]
  },
  {
   "cell_type": "code",
   "execution_count": 12,
   "id": "bf71ca03",
   "metadata": {},
   "outputs": [
    {
     "name": "stdout",
     "output_type": "stream",
     "text": [
      "[[ 1. 13. 90.]\n",
      " [91. 67. 42.]\n",
      " [91. 91. 91.]]\n"
     ]
    }
   ],
   "source": [
    "def horizontalSort(result):\n",
    "        for j in range(len(result)):\n",
    "            temp = []\n",
    "            if(j % 2 == 0):\n",
    "                result[j].sort()\n",
    "            else:\n",
    "                result[j].sort()\n",
    "                result[j] = result[j][::-1]\n",
    "            \n",
    "        return result    \n",
    "\n",
    "print(horizontalSort(larrySort(arr1)))"
   ]
  },
  {
   "cell_type": "markdown",
   "id": "fca2407f",
   "metadata": {},
   "source": [
    "Then sort all columns in ascending order. "
   ]
  },
  {
   "cell_type": "code",
   "execution_count": 13,
   "id": "758c72ca",
   "metadata": {},
   "outputs": [
    {
     "name": "stdout",
     "output_type": "stream",
     "text": [
      "[[ 1. 13. 42.]\n",
      " [91. 67. 90.]\n",
      " [91. 91. 91.]]\n"
     ]
    }
   ],
   "source": [
    "def verticalSort(result):\n",
    "    counter = 0 \n",
    "    temp = []\n",
    "    for k in range(len(result)):\n",
    "        temp2 = []\n",
    "        for l in range(len(result)):\n",
    "            temp2.append(result[l][k])\n",
    "            temp2 = sorted(temp2)\n",
    "        temp.append(temp2)\n",
    "        \n",
    "    return np.transpose(np.array(temp))\n",
    "\n",
    "print(verticalSort(horizontalSort(larrySort(arr1))))"
   ]
  },
  {
   "cell_type": "markdown",
   "id": "f2d6173b",
   "metadata": {},
   "source": [
    "Then repeat the process √m + 1 times"
   ]
  },
  {
   "cell_type": "code",
   "execution_count": 14,
   "id": "11d124ac",
   "metadata": {},
   "outputs": [
    {
     "name": "stdout",
     "output_type": "stream",
     "text": [
      "[[ 1. 13. 42.]\n",
      " [91. 90. 67.]\n",
      " [91. 91. 91.]]\n"
     ]
    }
   ],
   "source": [
    "def realLarrySort(result):\n",
    "    result = larrySort(result)\n",
    "    for i in range(len(result) + 1):\n",
    "         result = verticalSort(horizontalSort(result))\n",
    "    \n",
    "    return result\n",
    "    \n",
    "print(realLarrySort(arr1))\n",
    "    \n",
    "    "
   ]
  },
  {
   "cell_type": "markdown",
   "id": "55fc5ef5",
   "metadata": {},
   "source": [
    "Then walk the grid to obtain the sorted array"
   ]
  },
  {
   "cell_type": "code",
   "execution_count": 15,
   "id": "3d6c22e7",
   "metadata": {},
   "outputs": [
    {
     "name": "stdout",
     "output_type": "stream",
     "text": [
      "[1.0, 13.0, 42.0, 67.0, 90.0]\n"
     ]
    }
   ],
   "source": [
    "def presentResult(result):\n",
    "    maxElement = max(result)\n",
    "    result = realLarrySort(result)\n",
    "    for i in range(len(result)):\n",
    "        if (i % 2 == 0):\n",
    "            result[i] = result[i]\n",
    "        else:\n",
    "            result[i] = result[i][::-1]\n",
    "            \n",
    "    result = result.flatten(order='C')\n",
    "    temp = []\n",
    "    for j in range(len(result)):\n",
    "        if (result[j] != (maxElement+1)):\n",
    "            temp.append(result[j])\n",
    "    \n",
    "    return temp\n",
    "\n",
    "print(presentResult(arr1))"
   ]
  },
  {
   "cell_type": "markdown",
   "id": "49106f84",
   "metadata": {},
   "source": [
    "One thing to note as seen above, the results sometimes are converted to floating point values using my implementation but that can be fixed with a quick conversion to integer values. That is an issue that I will have to look into."
   ]
  },
  {
   "cell_type": "code",
   "execution_count": null,
   "id": "d6281e8f",
   "metadata": {},
   "outputs": [],
   "source": []
  }
 ],
 "metadata": {
  "kernelspec": {
   "display_name": "Python 3",
   "language": "python",
   "name": "python3"
  },
  "language_info": {
   "codemirror_mode": {
    "name": "ipython",
    "version": 3
   },
   "file_extension": ".py",
   "mimetype": "text/x-python",
   "name": "python",
   "nbconvert_exporter": "python",
   "pygments_lexer": "ipython3",
   "version": "3.8.8"
  }
 },
 "nbformat": 4,
 "nbformat_minor": 5
}
